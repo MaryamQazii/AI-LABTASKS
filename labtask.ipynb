{
  "nbformat": 4,
  "nbformat_minor": 0,
  "metadata": {
    "colab": {
      "provenance": [],
      "toc_visible": true
    },
    "kernelspec": {
      "name": "python3",
      "display_name": "Python 3"
    },
    "language_info": {
      "name": "python"
    }
  },
  "cells": [
    {
      "cell_type": "code",
      "execution_count": 2,
      "metadata": {
        "colab": {
          "base_uri": "https://localhost:8080/"
        },
        "id": "ATlg7cj7RyhT",
        "outputId": "14adfaad-533c-4ef2-e056-b9c1d6c67d77"
      },
      "outputs": [
        {
          "output_type": "stream",
          "name": "stdout",
          "text": [
            "[22, 33, 44, 55]\n"
          ]
        }
      ],
      "source": [
        "number=[22,33,44,55]\n",
        "print(number)"
      ]
    },
    {
      "cell_type": "code",
      "source": [
        "fruits=('apple','banana','cherry','mango')\n",
        "print('Second element:',fruits[1])\n",
        "print('Last element:',fruits[-1])"
      ],
      "metadata": {
        "colab": {
          "base_uri": "https://localhost:8080/"
        },
        "id": "n3WVdB9JSFQW",
        "outputId": "30245b19-505c-4043-8058-2b974bdada59"
      },
      "execution_count": 4,
      "outputs": [
        {
          "output_type": "stream",
          "name": "stdout",
          "text": [
            "Second element: banana\n",
            "Last element: mango\n"
          ]
        }
      ]
    },
    {
      "cell_type": "code",
      "source": [
        "#convert tuple to list\n",
        "fruit_list=list(fruits)\n",
        "fruit_list[2]='orange'\n",
        "print('modified list:',fruit_list)"
      ],
      "metadata": {
        "colab": {
          "base_uri": "https://localhost:8080/"
        },
        "id": "e7kdLy7qSj1t",
        "outputId": "d5f253dc-1edd-4ae4-917e-92e84b09cd44"
      },
      "execution_count": 6,
      "outputs": [
        {
          "output_type": "stream",
          "name": "stdout",
          "text": [
            "modified list: ['apple', 'banana', 'orange', 'mango']\n"
          ]
        }
      ]
    },
    {
      "cell_type": "markdown",
      "source": [
        "5. **SET:**"
      ],
      "metadata": {
        "id": "yFI3fDFTUtV0"
      }
    },
    {
      "cell_type": "code",
      "source": [
        "name1={'Ali','Asad','Abdullah','Ishaq'}\n",
        "name2={'Abdullah','Ishaq','Aleeza','Nabia','Rimsha'}\n",
        "print('union:',name1|name2)\n",
        "print('Intersection:',name1&name2)\n",
        "print('Difference:',name1-name2)\n",
        "name1.add('javeria')\n",
        "name2.remove('Ismaeel')\n",
        "print('Updated name1',name1)\n",
        "print('Updated name2',name2)"
      ],
      "metadata": {
        "colab": {
          "base_uri": "https://localhost:8080/",
          "height": 263
        },
        "id": "PtpT4HE8U1VN",
        "outputId": "5e31dd5b-da96-49f6-ee9c-fe2e5900d068"
      },
      "execution_count": 9,
      "outputs": [
        {
          "output_type": "stream",
          "name": "stdout",
          "text": [
            "union: {'Nabia', 'Asad', 'Rimsha', 'Ali', 'Abdullah', 'Aleeza', 'Ishaq'}\n",
            "Intersection: {'Abdullah', 'Ishaq'}\n",
            "Difference: {'Asad', 'Ali'}\n"
          ]
        },
        {
          "output_type": "error",
          "ename": "KeyError",
          "evalue": "'Ismaeel'",
          "traceback": [
            "\u001b[0;31m---------------------------------------------------------------------------\u001b[0m",
            "\u001b[0;31mKeyError\u001b[0m                                  Traceback (most recent call last)",
            "\u001b[0;32m/tmp/ipython-input-4274544851.py\u001b[0m in \u001b[0;36m<cell line: 0>\u001b[0;34m()\u001b[0m\n\u001b[1;32m      5\u001b[0m \u001b[0mprint\u001b[0m\u001b[0;34m(\u001b[0m\u001b[0;34m'Difference:'\u001b[0m\u001b[0;34m,\u001b[0m\u001b[0mname1\u001b[0m\u001b[0;34m-\u001b[0m\u001b[0mname2\u001b[0m\u001b[0;34m)\u001b[0m\u001b[0;34m\u001b[0m\u001b[0;34m\u001b[0m\u001b[0m\n\u001b[1;32m      6\u001b[0m \u001b[0mname1\u001b[0m\u001b[0;34m.\u001b[0m\u001b[0madd\u001b[0m\u001b[0;34m(\u001b[0m\u001b[0;34m'javeria'\u001b[0m\u001b[0;34m)\u001b[0m\u001b[0;34m\u001b[0m\u001b[0;34m\u001b[0m\u001b[0m\n\u001b[0;32m----> 7\u001b[0;31m \u001b[0mname2\u001b[0m\u001b[0;34m.\u001b[0m\u001b[0mremove\u001b[0m\u001b[0;34m(\u001b[0m\u001b[0;34m'Ismaeel'\u001b[0m\u001b[0;34m)\u001b[0m\u001b[0;34m\u001b[0m\u001b[0;34m\u001b[0m\u001b[0m\n\u001b[0m\u001b[1;32m      8\u001b[0m \u001b[0mprint\u001b[0m\u001b[0;34m(\u001b[0m\u001b[0;34m'Updated name1'\u001b[0m\u001b[0;34m,\u001b[0m\u001b[0mname1\u001b[0m\u001b[0;34m)\u001b[0m\u001b[0;34m\u001b[0m\u001b[0;34m\u001b[0m\u001b[0m\n\u001b[1;32m      9\u001b[0m \u001b[0mprint\u001b[0m\u001b[0;34m(\u001b[0m\u001b[0;34m'Updated name2'\u001b[0m\u001b[0;34m,\u001b[0m\u001b[0mname2\u001b[0m\u001b[0;34m)\u001b[0m\u001b[0;34m\u001b[0m\u001b[0;34m\u001b[0m\u001b[0m\n",
            "\u001b[0;31mKeyError\u001b[0m: 'Ismaeel'"
          ]
        }
      ]
    },
    {
      "cell_type": "markdown",
      "source": [
        "DICTIONARY:"
      ],
      "metadata": {
        "id": "3VJcyxfhXdNF"
      }
    },
    {
      "cell_type": "code",
      "source": [
        "student_marks = {\n",
        "    \"Aleena\": 85,\n",
        "    \"Biqtash\": 92,\n",
        "    \"Chaman\": 78,\n",
        "    \"Dolly\": 90,\n",
        "    \"Eiman\": 88\n",
        "}\n",
        "print('keys:',student_marks.keys())\n",
        "print('values:',student_marks.values())\n",
        "print('items:',student_marks.items())\n",
        "\n",
        "print(student_marks)"
      ],
      "metadata": {
        "colab": {
          "base_uri": "https://localhost:8080/"
        },
        "id": "RzjIygW3Xfk0",
        "outputId": "f3cf6296-ec2b-4381-d1a8-870a60efe7bb"
      },
      "execution_count": 12,
      "outputs": [
        {
          "output_type": "stream",
          "name": "stdout",
          "text": [
            "keys: dict_keys(['Aleena', 'Biqtash', 'Chaman', 'Dolly', 'Eiman'])\n",
            "values: dict_values([85, 92, 78, 90, 88])\n",
            "items: dict_items([('Aleena', 85), ('Biqtash', 92), ('Chaman', 78), ('Dolly', 90), ('Eiman', 88)])\n",
            "{'Aleena': 85, 'Biqtash': 92, 'Chaman': 78, 'Dolly': 90, 'Eiman': 88}\n"
          ]
        }
      ]
    },
    {
      "cell_type": "code",
      "source": [
        "student_marks={\n",
        "    \"ali\":20,\n",
        "      \"ali\":21,\n",
        "      \"ali\":22,\n",
        "  \"ali\":23,\n",
        "      \"ali\":24,\n",
        "}\n",
        "print(student_marks)"
      ],
      "metadata": {
        "colab": {
          "base_uri": "https://localhost:8080/"
        },
        "id": "gAYnkXWOYQ10",
        "outputId": "c79b07a0-092e-4e36-aea3-5ea7cb0b5f4e"
      },
      "execution_count": 16,
      "outputs": [
        {
          "output_type": "stream",
          "name": "stdout",
          "text": [
            "{'ali': 24}\n"
          ]
        }
      ]
    }
  ]
}